{
 "cells": [
  {
   "cell_type": "code",
   "execution_count": 12,
   "metadata": {},
   "outputs": [],
   "source": [
    "import requests\n",
    "from io import StringIO\n",
    "import pandas as pd\n",
    "import datetime"
   ]
  },
  {
   "cell_type": "code",
   "execution_count": 13,
   "metadata": {},
   "outputs": [],
   "source": [
    "# 政府資料開放平臺/政府行政機關辦公日曆表\n",
    "url = \"https://data.ntpc.gov.tw/api/datasets/308dcd75-6434-45bc-a95f-584da4fed251/csv/file\""
   ]
  },
  {
   "cell_type": "code",
   "execution_count": 14,
   "metadata": {},
   "outputs": [
    {
     "name": "stdout",
     "output_type": "stream",
     "text": [
      "0       20160101\n",
      "1       20160102\n",
      "2       20160103\n",
      "3       20160109\n",
      "4       20160110\n",
      "          ...   \n",
      "1187    20251214\n",
      "1188    20251220\n",
      "1189    20251221\n",
      "1190    20251227\n",
      "1191    20251228\n",
      "Name: date, Length: 1167, dtype: object\n"
     ]
    }
   ],
   "source": [
    "# pd.read_csv(StringIO())直接讀取csv所在網址的資料\n",
    "# usecols 參考：https://www.cnblogs.com/traditional/p/12514914.html\n",
    "# usecols 取得指定的 columns/欄資料/直欄資料\n",
    "# low_memory = False → 讀取的欄位有混合類型的資料，將low_memory參數設置為False 可以忽略警告。\n",
    "\n",
    "resp = requests.get(url)\n",
    "if resp.status_code == 200:    \n",
    "    datas = pd.read_csv(StringIO(resp.text), usecols=[0,3], low_memory = False)\n",
    "    # 刪除「補行上班日」：先取得isholiday為「否」的index，再進行刪除。\n",
    "    datas.drop(datas.groupby(\"isholiday\").get_group(\"否\").index, inplace=True)\n",
    "    # 將 date 欄位轉換為文字型態，並將資料回存，直接將「isholiday」欄資料刪除\n",
    "    datas = datas[\"date\"].apply(lambda x: str(x))\n",
    "    print(datas)\n",
    "\n",
    "else:\n",
    "    print(\"資料取得失敗。\", resp.status_code)"
   ]
  },
  {
   "cell_type": "code",
   "execution_count": 15,
   "metadata": {},
   "outputs": [
    {
     "data": {
      "text/plain": [
       "array([['20160101'],\n",
       "       ['20160102'],\n",
       "       ['20160103'],\n",
       "       ...,\n",
       "       ['20251221'],\n",
       "       ['20251227'],\n",
       "       ['20251228']], dtype=object)"
      ]
     },
     "execution_count": 15,
     "metadata": {},
     "output_type": "execute_result"
    }
   ],
   "source": [
    "holidays = pd.DataFrame(datas).values\n",
    "holidays"
   ]
  },
  {
   "cell_type": "code",
   "execution_count": null,
   "metadata": {},
   "outputs": [],
   "source": []
  },
  {
   "cell_type": "code",
   "execution_count": null,
   "metadata": {},
   "outputs": [],
   "source": []
  },
  {
   "cell_type": "code",
   "execution_count": null,
   "metadata": {},
   "outputs": [],
   "source": []
  }
 ],
 "metadata": {
  "kernelspec": {
   "display_name": "base",
   "language": "python",
   "name": "python3"
  },
  "language_info": {
   "codemirror_mode": {
    "name": "ipython",
    "version": 3
   },
   "file_extension": ".py",
   "mimetype": "text/x-python",
   "name": "python",
   "nbconvert_exporter": "python",
   "pygments_lexer": "ipython3",
   "version": "3.11.7"
  }
 },
 "nbformat": 4,
 "nbformat_minor": 2
}
